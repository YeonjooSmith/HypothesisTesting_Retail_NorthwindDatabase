{
 "cells": [
  {
   "cell_type": "markdown",
   "metadata": {},
   "source": [
    "# Preparation \n",
    "## Importing libraries used in the project"
   ]
  },
  {
   "cell_type": "code",
   "execution_count": 3,
   "metadata": {},
   "outputs": [],
   "source": [
    "import sqlite3\n",
    "import pandas as pd\n",
    "import matplotlib.pyplot as plt\n",
    "plt.style.use('seaborn-deep')\n",
    "import seaborn as sns\n",
    "import numpy as np\n",
    "%matplotlib inline\n",
    "from matplotlib.ticker import (MultipleLocator, FormatStrFormatter,\n",
    "                               AutoMinorLocator)\n",
    "\n",
    "import scipy.stats as stats\n",
    "\n",
    "from statsmodels.stats.power import TTestIndPower, TTestPower\n",
    "from pandasql import sqldf\n",
    "pysqldf = lambda q: sqldf(q, globals())# to pass in SQL queries in the form of a string to directly query our database.  "
   ]
  },
  {
   "cell_type": "markdown",
   "metadata": {},
   "source": [
    "## Building tools for statistical testing and editing tables"
   ]
  },
  {
   "cell_type": "markdown",
   "metadata": {},
   "source": [
    "### Welch's t-test\n",
    "Use: To compare means between two samples\n",
    "Assumption: Two populations represented by the two given samples have normal distributions. Two samples have unequal variances and sizes. If two samples have same sizes and equal variances, the result of the test will be identical to student's t-test."
   ]
  },
  {
   "cell_type": "code",
   "execution_count": 4,
   "metadata": {},
   "outputs": [],
   "source": [
    "def welch_t(exp, cont):\n",
    "    \n",
    "    \"\"\" Calculate Welch's t statistic for two samples. \"\"\"\n",
    "\n",
    "    numerator = exp.mean() - cont.mean()\n",
    "    \n",
    "    # “ddof = Delta Degrees of Freedom”: the divisor used in the calculation is N - ddof, \n",
    "    #  where N represents the number of elements. By default ddof is zero.\n",
    "    \n",
    "    denominator = np.sqrt(exp.var(ddof=1)/exp.size + cont.var(ddof=1)/cont.size)\n",
    "    \n",
    "    return np.abs(numerator/denominator)\n",
    "\n",
    "def welch_df(exp, cont):\n",
    "    \n",
    "    \"\"\" Calculate the effective degrees of freedom for two samples. This function returns the degrees of freedom \"\"\"\n",
    "    \n",
    "    s1 = exp.var(ddof=1) \n",
    "    s2 = cont.var(ddof=1)\n",
    "    n1 = exp.size\n",
    "    n2 = cont.size\n",
    "    \n",
    "    numerator = (s1/n1 + s2/n2)**2\n",
    "    denominator = (s1/ n1)**2/(n1 - 1) + (s2/ n2)**2/(n2 - 1)\n",
    "    \n",
    "    return numerator/denominator\n",
    "\n",
    "\n",
    "def p_value_welch_ttest(exp, cont, two_sided=False):\n",
    "    \"\"\"Calculates the p-value for Welch's t-test given two samples.\n",
    "    By default, the returned p-value is for a one-sided t-test. \n",
    "    Set the two-sided parameter to True if you wish to perform a two-sided t-test instead.\n",
    "    \"\"\"\n",
    "    t = welch_t(exp, cont)\n",
    "    df = welch_df(exp, cont)\n",
    "    \n",
    "    p = 1-stats.t.cdf(np.abs(t), df)\n",
    "    \n",
    "    if two_sided:\n",
    "        return 2*p\n",
    "    else:\n",
    "        return p"
   ]
  },
  {
   "cell_type": "code",
   "execution_count": 5,
   "metadata": {},
   "outputs": [],
   "source": [
    "def welch_summary(dict_dfs,measurement, alpha =0.05,two_sided=False):\n",
    "    \"\"\"\n",
    "        The function \n",
    "        takes :\n",
    "        dic_dfs ={group1: pandas.Series, group2:pandas.Series }\n",
    "            note: group1 is the experimental group and group2 is the control group.\n",
    "        mesurement = string to describe what we compare\n",
    "        alpah (optional, significance level)\n",
    "        two_sided(optional, choosing two tail (True) or one tail(False, default))\n",
    "        \n",
    "        prints information to compare two groups using welch's t-test:\n",
    "        median values,\n",
    "        mean values,\n",
    "        sample sizes, \n",
    "        welch's t-test p-value\n",
    "        conclusion of the test result \n",
    "        Cohen's d for effect size (if the difference of mean values of two \n",
    "        groups is significant) \n",
    "        \n",
    "        returns:\n",
    "        p value if the null hypothesis fails to be rejected\n",
    "        (p value, Cohen's D) if the null hypothesis is rejected\n",
    "        \"\"\"\n",
    "    names = list(dict_dfs.keys())\n",
    "    data = list(dict_dfs.values())\n",
    "    n1 = names[0]\n",
    "    n2 = names[1]\n",
    "    a = data[0]\n",
    "    b = data[1]\n",
    "    print(f'Comparison of the average of {measurement} for {n1} and {n2}')\n",
    "    print(f'Median Values: \\t{n1}:{round(a.median(),2)}', \n",
    "          f'\\t{n2}:{round(b.median(),2)}')\n",
    "    print(f'Mean Values: \\t{n1}:{round(a.mean(),2)}',\n",
    "          f'\\t{n2}:{round(b.mean(),2)}')\n",
    "    print(f'Sample sizes: \\t{n1}:{len(a)}', \n",
    "          f'\\t{n2}:{len(b)}')\n",
    "    print(\"\\n\")\n",
    "    print(f\"Welch's t-test p-value:{round(p_value_welch_ttest(a,b),5)}\")\n",
    "    if p_value_welch_ttest(a,b, two_sided)< alpha:\n",
    "        print(f\"Test result:\\tThere is statistically significant difference \\n\",\n",
    "                 f\"\\t\\tbetween the means of two groups with {(1-alpha)*100}% confidence level.\")\n",
    "        print(f\"Effect size:\\t{round(Cohen_d(a,b),2)}\")\n",
    "        print(f\"Level of effect size:\\t{cohen_level(round(Cohen_d(a,b),2))}\\n\\n\")\n",
    "        return(round(p_value_welch_ttest(a,b),5), round(Cohen_d(a,b),2))\n",
    "    else:\n",
    "        print(f\"Test result:\\tThe differenc in mean values between two groups is\\n\",\n",
    "             f\"\\t\\tstatistically insignificant with {alpha*100}% significance level.\\n\\n\")\n",
    "        return(round(p_value_welch_ttest(a,b),5))\n"
   ]
  },
  {
   "cell_type": "markdown",
   "metadata": {},
   "source": [
    "### ANOVA test\n",
    "Use: To test significance of differences between mean values of multiple groups"
   ]
  },
  {
   "cell_type": "code",
   "execution_count": 6,
   "metadata": {},
   "outputs": [],
   "source": [
    "def anova_oneway_summary(dict_dfs,measurement, f_test_p ,alpha =0.05):\n",
    "    \"\"\"\n",
    "        The function \n",
    "        takes :\n",
    "        dic_dfs ={group1: pandas.Series, group2:pandas.Series,... }\n",
    "            note: group1 is the experimental group and group2 is the control group.\n",
    "        mesurement = string to describe what we compare\n",
    "        f_test_p = stats.f_oneway(data1,data2,...)[1]\n",
    "        alpah (optional, significance level)\n",
    "        two_sided(optional, choosing two tail (True) or one tail(False, default))\n",
    "        \n",
    "        prints information to compare two groups using welch's t-test:\n",
    "        median values,\n",
    "        mean values,\n",
    "        sample sizes, \n",
    "        welch's t-test p-value\n",
    "        conclusion of the test result \n",
    "        Cohen's d for effect size (if the difference of mean values of two \n",
    "        groups is significant) \n",
    "        \n",
    "        returns:\n",
    "        p value if the null hypothesis fails to be rejected\n",
    "        (p value, Cohen's D) if the null hypothesis is rejected\n",
    "        \"\"\"\n",
    "    names = list(dict_dfs.keys())\n",
    "    data = list(dict_dfs.values())\n",
    "   \n",
    "    for i in range(len(names)):\n",
    "        if i <len(names)-1:\n",
    "            phrases.append(str(names[i])+', ')\n",
    "        else:\n",
    "            phrases.append('and '+ str(names[i]))\n",
    "    phrase1 = f'Comparison of the averages of {measurement} for'\n",
    "    phrase2=f'Median Values:'\n",
    "    phrase3= f'Mean Values:'\n",
    "    phrase4=f'Sample sizes:'\n",
    "    for i in range(len(names)):\n",
    "        if i <len(names)-1:\n",
    "            phrase1 += ' '+ str(names[i])+','\n",
    "            phrase2 += f'\\t{names[i]}:{round(data[i].median(),2)}'\n",
    "            phrase3 += f'\\t{names[i]}:{round(data[i].mean(),2)}'\n",
    "            phrase4 += f'\\t{names[i]}:{len(data[i])}'\n",
    "        else:\n",
    "            phrase1 += ' and '+ str(names[i])+'.'\n",
    "            phrase2 += f'\\t{names[i]}:{round(data[i].median(),2)}'\n",
    "            phrase3 += f'\\t{names[i]}:{round(data[i].mean(),2)}'\n",
    "            phrase4 += f'\\t{names[i]}:{len(data[i])}'\n",
    "    print(phrase1)\n",
    "    print(phrase2)\n",
    "    print(phrase3)\n",
    "    print(phrase4)\n",
    "    print(\"\\n\")\n",
    "    print(f\"ANOVA test p-value:{round(f_test_p,5)}\")\n",
    "    if f_test_p < alpha:\n",
    "        print(f\"Test result:\\tThere is statistically significant difference \\n\",\n",
    "                 f\"\\t\\tbetween the means of two groups with {(1-alpha)*100}% confidence level.\")\n",
    "        return(round(f_test_p,5))\n",
    "    else:\n",
    "        print(f\"Test result:\\tThe differenc in mean values between groups is\\n\",\n",
    "             f\"\\t\\tstatistically insignificant with {alpha*100}% significance level.\")\n",
    "        return(round(f_test_p,5))\n"
   ]
  },
  {
   "cell_type": "markdown",
   "metadata": {
    "heading_collapsed": true
   },
   "source": [
    "### Cohen's d (effect size)\n",
    "Use: To indicate the level of difference between comparing sets. It also can be used for a power analysis."
   ]
  },
  {
   "cell_type": "code",
   "execution_count": 7,
   "metadata": {
    "hidden": true
   },
   "outputs": [],
   "source": [
    "def Cohen_d(exp, cont):\n",
    "\n",
    "    \"\"\"\n",
    "    Compute Cohen's d\n",
    "    \n",
    "    takes:\n",
    "    exp: Series or NumPy array\n",
    "    cont: Series or NumPy array\n",
    "\n",
    "    returns:\n",
    "    Cohen's d as a floating point number \n",
    "    \"\"\"\n",
    "    diff = exp.mean() - cont.mean()\n",
    "\n",
    "    n1, n2 = len(exp), len(cont)\n",
    "    var1 = exp.var()\n",
    "    var2 = cont.var()\n",
    "\n",
    "    # Calculate the pooled threshold as shown earlier\n",
    "    pooled_var = (n1 * var1 + n2 * var2) / (n1 + n2)\n",
    "    \n",
    "    # Calculate Cohen's d statistic\n",
    "    d = diff / np.sqrt(pooled_var)\n",
    "    \n",
    "    return d"
   ]
  },
  {
   "cell_type": "code",
   "execution_count": 8,
   "metadata": {
    "hidden": true
   },
   "outputs": [],
   "source": [
    "def cohen_level(a):\n",
    "    \"\"\"\n",
    "        Provide the level of Cohen's d\n",
    "        takes: Cohen's d\n",
    "        returns: level of the effect size\"\"\"\n",
    "    if a<0.2:\n",
    "        return('very small')\n",
    "    elif 0.2<= a <0.5:\n",
    "        return('small')\n",
    "    elif 0.5<= a<0.8:\n",
    "        return('medium')\n",
    "    else:\n",
    "        return('large')\n",
    "        "
   ]
  },
  {
   "cell_type": "markdown",
   "metadata": {
    "heading_collapsed": true
   },
   "source": [
    "### Renaming identically named columns after joins for pandas.DataFrames"
   ]
  },
  {
   "cell_type": "code",
   "execution_count": 9,
   "metadata": {
    "hidden": true
   },
   "outputs": [],
   "source": [
    "# if len(df.columns) !=len(set(df.columns)):\n",
    "def rename_dup_columns(df):\n",
    "    '''\n",
    "    Takes a dataframe and check if its column has identical names. \n",
    "    Then if there are,return the column names and number of identical columns, \n",
    "    and an array of updated column names.\n",
    "    \n",
    "    For example, if there are 2 columns with name 'Id':\n",
    "    * it will print \"There are 2 columns with name: Id \"\n",
    "    * it will keep first column name as it is and the second column name as Id.1 \n",
    "        and return the updated array of column names. \n",
    "    '''\n",
    "    cols = pd.Series(df.columns)\n",
    "\n",
    "    if len(df.columns.get_duplicates())>0:\n",
    "        for dup in df.columns.get_duplicates():\n",
    "            print(f\"There are {df.columns.get_loc(dup).sum()} columns with name:{dup}\")\n",
    "            #df.columns.get_loc(dup) is an np.array not a list which makes it possible to do follwing\n",
    "            cols[df.columns.get_loc(dup)] =np.array([dup + '_' + str(d_idx) \n",
    "                                             if d_idx != 0 \n",
    "                                             else dup \n",
    "                                             for d_idx in range(df.columns.get_loc(dup).sum())])\n",
    "        return cols        \n",
    "    else:\n",
    "        return \"There is not identically named columns in the dataframe\"\n",
    "        "
   ]
  },
  {
   "cell_type": "markdown",
   "metadata": {
    "heading_collapsed": true
   },
   "source": [
    "### Importing each tables in the Northwind database as a dictionary"
   ]
  },
  {
   "cell_type": "code",
   "execution_count": 10,
   "metadata": {
    "hidden": true
   },
   "outputs": [],
   "source": [
    "#Build a connection to the database\n",
    "conn = sqlite3.connect('Northwind_small.sqlite')\n",
    "c= conn.cursor()"
   ]
  },
  {
   "cell_type": "code",
   "execution_count": 11,
   "metadata": {
    "hidden": true
   },
   "outputs": [
    {
     "data": {
      "text/plain": [
       "['Employee',\n",
       " 'Category',\n",
       " 'Customer',\n",
       " 'Shipper',\n",
       " 'Supplier',\n",
       " 'Order',\n",
       " 'Product',\n",
       " 'OrderDetail',\n",
       " 'CustomerCustomerDemo',\n",
       " 'CustomerDemographic',\n",
       " 'Region',\n",
       " 'Territory',\n",
       " 'EmployeeTerritory']"
      ]
     },
     "execution_count": 11,
     "metadata": {},
     "output_type": "execute_result"
    }
   ],
   "source": [
    "#Save table names \n",
    "table_names = [x[0] for x in c.execute(\"SELECT name from sqlite_master WHERE type ='table';\").fetchall()]\n",
    "table_names"
   ]
  },
  {
   "cell_type": "code",
   "execution_count": 12,
   "metadata": {
    "hidden": true
   },
   "outputs": [],
   "source": [
    "#Make a dictionary with \n",
    "#key:table name\n",
    "#value: table as a pd.DataFrame\n",
    "df_tables ={}\n",
    "for name in table_names:\n",
    "    #'Order' is a reserved keyword in SQL so we put [] to use it as table name\n",
    "    if name == 'Order':\n",
    "        query =f\"SELECT * from [{name}]\"\n",
    "        df_tables[name]=pd.read_sql(query,conn)\n",
    "    else:\n",
    "        query =f\"SELECT * from {name}\"\n",
    "        df_tables[name]=pd.read_sql(query,conn)"
   ]
  },
  {
   "cell_type": "markdown",
   "metadata": {},
   "source": [
    "# EDA: Sales  influenced by different factors"
   ]
  },
  {
   "cell_type": "code",
   "execution_count": 13,
   "metadata": {},
   "outputs": [],
   "source": [
    "\"\"\"Join Products/Order/OrderDetail/Category\"\"\"\n",
    "query = \"\"\"SELECT * \n",
    "            FROM Product AS p \n",
    "            LEFT JOIN OrderDetail AS od\n",
    "            ON (p.Id = od.ProductId)\n",
    "            JOIN Category as c \n",
    "            on (p.CategoryID = c.Id)\n",
    "            JOIN [Order] as o \n",
    "            ON (o.Id = od.OrderId);\"\"\"\n",
    "df = pd.read_sql(query, conn)"
   ]
  },
  {
   "cell_type": "code",
   "execution_count": 14,
   "metadata": {
    "scrolled": true
   },
   "outputs": [
    {
     "name": "stdout",
     "output_type": "stream",
     "text": [
      "There are 4 columns with name:Id\n",
      "There are 2 columns with name:UnitPrice\n"
     ]
    },
    {
     "name": "stderr",
     "output_type": "stream",
     "text": [
      "C:\\Users\\woogu\\Anaconda3\\envs\\learn-env\\lib\\site-packages\\ipykernel_launcher.py:15: FutureWarning: 'get_duplicates' is deprecated and will be removed in a future release. You can use idx[idx.duplicated()].unique() instead\n",
      "  from ipykernel import kernelapp as app\n",
      "C:\\Users\\woogu\\Anaconda3\\envs\\learn-env\\lib\\site-packages\\ipykernel_launcher.py:16: FutureWarning: 'get_duplicates' is deprecated and will be removed in a future release. You can use idx[idx.duplicated()].unique() instead\n",
      "  app.launch_new_instance()\n"
     ]
    }
   ],
   "source": [
    "#Renaming identical column names by numbering\n",
    "df.columns = rename_dup_columns(df)"
   ]
  },
  {
   "cell_type": "code",
   "execution_count": 15,
   "metadata": {},
   "outputs": [
    {
     "name": "stderr",
     "output_type": "stream",
     "text": [
      "C:\\Users\\woogu\\Anaconda3\\envs\\learn-env\\lib\\site-packages\\ipykernel_launcher.py:15: FutureWarning: 'get_duplicates' is deprecated and will be removed in a future release. You can use idx[idx.duplicated()].unique() instead\n",
      "  from ipykernel import kernelapp as app\n"
     ]
    },
    {
     "data": {
      "text/plain": [
       "'There is not identically named columns in the dataframe'"
      ]
     },
     "execution_count": 15,
     "metadata": {},
     "output_type": "execute_result"
    }
   ],
   "source": [
    "rename_dup_columns(df)"
   ]
  },
  {
   "cell_type": "code",
   "execution_count": 16,
   "metadata": {},
   "outputs": [],
   "source": [
    "#Creating new feature for total price per order\n",
    "df.eval(\"Price_total = UnitPrice*Quantity \",inplace = True)"
   ]
  },
  {
   "cell_type": "code",
   "execution_count": 17,
   "metadata": {},
   "outputs": [],
   "source": [
    "#Year the order was placed\n",
    "df['Year_Order']=[int(x[:4]) for x in df.OrderDate]"
   ]
  },
  {
   "cell_type": "markdown",
   "metadata": {},
   "source": [
    "## Total number of orders made in each year"
   ]
  },
  {
   "cell_type": "code",
   "execution_count": 18,
   "metadata": {},
   "outputs": [
    {
     "name": "stderr",
     "output_type": "stream",
     "text": [
      "C:\\Users\\woogu\\Anaconda3\\envs\\learn-env\\lib\\site-packages\\scipy\\stats\\stats.py:1713: FutureWarning: Using a non-tuple sequence for multidimensional indexing is deprecated; use `arr[tuple(seq)]` instead of `arr[seq]`. In the future this will be interpreted as an array index, `arr[np.array(seq)]`, which will result either in an error or a different result.\n",
      "  return np.add.reduce(sorted[indexer] * weights, axis=axis) / sumval\n"
     ]
    },
    {
     "data": {
      "image/png": "[encoded data removed]",
      "text/plain": [
       "<Figure size 432x288 with 1 Axes>"
      ]
     },
     "metadata": {
      "needs_background": "light"
     },
     "output_type": "display_data"
    }
   ],
   "source": [
    "sns.distplot(df['Year_Order'], kde = False)\n",
    "plt.xticks([2012,2013,2014])\n",
    "plt.ylabel('number of orders'.title())\n",
    "plt.xlabel('Year'.title())\n",
    "plt.title('Total number of orders made in each year'.title())\n",
    "plt.show()"
   ]
  },
  {
   "cell_type": "markdown",
   "metadata": {},
   "source": [
    "Since number or orders may not reflect the total revenue as the quantity per order may \n",
    "make up for the decrease in number of order, we plot the total revenue by year."
   ]
  },
  {
   "cell_type": "code",
   "execution_count": 19,
   "metadata": {},
   "outputs": [
    {
     "data": {
      "image/png": "[encoded data removed]",
      "text/plain": [
       "<Figure size 720x360 with 1 Axes>"
      ]
     },
     "metadata": {
      "needs_background": "light"
     },
     "output_type": "display_data"
    }
   ],
   "source": [
    "TotalSales_Year = []\n",
    "\n",
    "for i, year in enumerate(df.Year_Order.unique()):\n",
    "    TotalSales_Year.append(sum(df[df.Year_Order == year].Price_total)) \n",
    "fig = plt.figure(figsize =(10,5))\n",
    "sns_plot = sns.barplot(x=['2012', '2013','2014'],y=TotalSales_Year)\n",
    "\n",
    "plt.title('Total revenue per year'.title(), fontsize =20)\n",
    "plt.xlabel('year'.title(), fontsize =15)\n",
    "plt.ylabel('Total revenue'.title(), fontsize =15)\n",
    "plt.rc('ytick', labelsize =15)\n",
    "plt.show()\n",
    "fig1 = sns_plot.get_figure() \n",
    "fig1.savefig('year_totalRev.png', dpi=400, bbox_inches=\"tight\") #Saving fig\n",
    "fig.savefig('year_totalRev.png', dpi=400, bbox_inches=\"tight\")#saving fig\n"
   ]
  },
  {
   "cell_type": "markdown",
   "metadata": {},
   "source": [
    "## Total number of orders sorted by categories"
   ]
  },
  {
   "cell_type": "code",
   "execution_count": 20,
   "metadata": {},
   "outputs": [
    {
     "data": {
      "image/png": "[encoded data removed]",
      "text/plain": [
       "<Figure size 864x360 with 1 Axes>"
      ]
     },
     "metadata": {
      "needs_background": "light"
     },
     "output_type": "display_data"
    }
   ],
   "source": [
    "Orders_by_Year = []\n",
    "\n",
    "for i, year in enumerate(df.Year_Order.unique()):\n",
    "    Orders_by_Year.append(df[df.Year_Order == year].CategoryName) \n",
    "fig = plt.figure(figsize =(12,5))\n",
    "plt.hist(Orders_by_Year, label =['2012', '2013','2014'])\n",
    "plt.ylabel('number of orders'.title(), fontsize =15)\n",
    "plt.xlabel('category'.title(), fontsize =15)\n",
    "plt.rc('xtick', labelsize = 13)\n",
    "plt.rc('ytick', labelsize = 15)\n",
    "plt.title('Total number of orders sorted by categories'.title(), fontsize =20)\n",
    "plt.legend()\n",
    "plt.show()\n",
    "# fig.savefig('year_category.png', dpi=400, bbox_inches=\"tight\")#saving fig"
   ]
  },
  {
   "cell_type": "markdown",
   "metadata": {},
   "source": [
    "## Difference between total sales in categories by  year"
   ]
  },
  {
   "cell_type": "markdown",
   "metadata": {},
   "source": [
    "* Sales sorted by year of the order date and category of the product"
   ]
  },
  {
   "cell_type": "code",
   "execution_count": 21,
   "metadata": {},
   "outputs": [
    {
     "data": {
      "text/html": [
       "<div>\n",
       "<style scoped>\n",
       "    .dataframe tbody tr th:only-of-type {\n",
       "        vertical-align: middle;\n",
       "    }\n",
       "\n",
       "    .dataframe tbody tr th {\n",
       "        vertical-align: top;\n",
       "    }\n",
       "\n",
       "    .dataframe thead th {\n",
       "        text-align: right;\n",
       "    }\n",
       "</style>\n",
       "<table border=\"1\" class=\"dataframe\">\n",
       "  <thead>\n",
       "    <tr style=\"text-align: right;\">\n",
       "      <th></th>\n",
       "      <th>Year_Order</th>\n",
       "      <th>CategoryName</th>\n",
       "      <th>order_counts</th>\n",
       "      <th>total_units</th>\n",
       "      <th>sales_revenue</th>\n",
       "    </tr>\n",
       "  </thead>\n",
       "  <tbody>\n",
       "    <tr>\n",
       "      <th>0</th>\n",
       "      <td>2012</td>\n",
       "      <td>Grains/Cereals</td>\n",
       "      <td>29</td>\n",
       "      <td>549</td>\n",
       "      <td>12289.50</td>\n",
       "    </tr>\n",
       "    <tr>\n",
       "      <th>1</th>\n",
       "      <td>2012</td>\n",
       "      <td>Produce</td>\n",
       "      <td>26</td>\n",
       "      <td>549</td>\n",
       "      <td>18931.25</td>\n",
       "    </tr>\n",
       "    <tr>\n",
       "      <th>2</th>\n",
       "      <td>2012</td>\n",
       "      <td>Condiments</td>\n",
       "      <td>39</td>\n",
       "      <td>962</td>\n",
       "      <td>24356.60</td>\n",
       "    </tr>\n",
       "    <tr>\n",
       "      <th>3</th>\n",
       "      <td>2012</td>\n",
       "      <td>Seafood</td>\n",
       "      <td>56</td>\n",
       "      <td>1286</td>\n",
       "      <td>26997.23</td>\n",
       "    </tr>\n",
       "    <tr>\n",
       "      <th>4</th>\n",
       "      <td>2014</td>\n",
       "      <td>Grains/Cereals</td>\n",
       "      <td>62</td>\n",
       "      <td>1377</td>\n",
       "      <td>30422.25</td>\n",
       "    </tr>\n",
       "  </tbody>\n",
       "</table>\n",
       "</div>"
      ],
      "text/plain": [
       "   Year_Order    CategoryName  order_counts  total_units  sales_revenue\n",
       "0        2012  Grains/Cereals            29          549       12289.50\n",
       "1        2012         Produce            26          549       18931.25\n",
       "2        2012      Condiments            39          962       24356.60\n",
       "3        2012         Seafood            56         1286       26997.23\n",
       "4        2014  Grains/Cereals            62         1377       30422.25"
      ]
     },
     "execution_count": 21,
     "metadata": {},
     "output_type": "execute_result"
    }
   ],
   "source": [
    "#Sales sorted by year of the order date and category of the product\n",
    "q =\"\"\"SELECT   Year_Order,\n",
    "            CategoryName, \n",
    "            COUNT(OrderId) as order_counts, \n",
    "            SUM(Quantity) as total_units,\n",
    "            SUM(Price_total) as sales_revenue\n",
    "    FROM df\n",
    "    GROUP BY Year_Order, CategoryName\n",
    "    ORDER BY sales_revenue\"\"\"\n",
    "category_sale = pysqldf(q)\n",
    "category_sale.head()"
   ]
  },
  {
   "cell_type": "markdown",
   "metadata": {},
   "source": [
    "* Divide the table by year"
   ]
  },
  {
   "cell_type": "code",
   "execution_count": 22,
   "metadata": {},
   "outputs": [],
   "source": [
    "c12 = category_sale[category_sale.Year_Order == 2012]\n",
    "c13 = category_sale[category_sale.Year_Order == 2013]\n",
    "c14 = category_sale[category_sale.Year_Order == 2014]"
   ]
  },
  {
   "cell_type": "markdown",
   "metadata": {},
   "source": [
    "* Calculate the changes by year per each category"
   ]
  },
  {
   "cell_type": "code",
   "execution_count": 23,
   "metadata": {},
   "outputs": [
    {
     "data": {
      "text/plain": [
       "<Figure size 1440x360 with 0 Axes>"
      ]
     },
     "metadata": {},
     "output_type": "display_data"
    },
    {
     "data": {
      "image/png": "[encoded data removed]",
      "text/plain": [
       "<Figure size 432x288 with 1 Axes>"
      ]
     },
     "metadata": {
      "needs_background": "light"
     },
     "output_type": "display_data"
    }
   ],
   "source": [
    "#merge the tables divided by year\n",
    "category_sum = c12.set_index('CategoryName')\\\n",
    "                .join(c13.set_index('CategoryName'),lsuffix='_12', rsuffix='_13')\\\n",
    "                .join(c14.set_index('CategoryName'), rsuffix='_14')\n",
    "\n",
    "#calculate the difference in sales between consecutive years\n",
    "category_sum.eval('sales_revenue_12_to_13 = sales_revenue_13 - sales_revenue_12 ', inplace =True )\n",
    "category_sum.eval('sales_revenue_13_to_14 = sales_revenue - sales_revenue_13 ', inplace =True )\n",
    "\n",
    "change =pd.DataFrame( {'12 to 13': category_sum.sales_revenue_12_to_13,\n",
    "                       '13 to 14': category_sum.sales_revenue_13_to_14})\n",
    "\n",
    "fig = plt.figure(figsize=(20,5))\n",
    "\n",
    "change.plot.bar(rot=90)\n",
    "plt.title('Difference in revenues between consecutive years'.title(),fontsize =15)\n",
    "plt.ylabel('difference in revenue'.title(), fontsize =12)\n",
    "plt.xlabel('Category', fontsize =12)\n",
    "plt.rc('ytick',labelsize = 10)\n",
    "# plt.rc('xtick',labelsize = 13)\n",
    "plt.xticks(fontsize =10, rotation = 20)\n",
    "plt.show()\n",
    "\n",
    "fig.savefig('Diff_rev.png', dpi=400, bbox_inches=\"tight\")#saving fig"
   ]
  },
  {
   "cell_type": "markdown",
   "metadata": {},
   "source": [
    "We can see that except beverages, most categories have increase then decrease in sales. \n",
    "Now we want to investigate difference factor that may have influenced these changes. "
   ]
  },
  {
   "cell_type": "markdown",
   "metadata": {},
   "source": [
    "# The total spending per order \n",
    "Conducting ANOVA test \n",
    "\n",
    "$H_0$ : The average of total spending per order in year 2012, 2013, and 2014 ($\\mu_{2012}$, $\\mu_{2013}$, $\\mu_{2014}$) has not changed.\n",
    "\n",
    "$$ \\large\\mu_{2012} = \\mu_{2013} = \\mu_{2014}$$\n",
    "\n",
    "$H_a$ : The averages of total spending per order are different from one year to the others (at least one of them is different from the other two averages). \n"
   ]
  },
  {
   "cell_type": "code",
   "execution_count": 24,
   "metadata": {
    "scrolled": true
   },
   "outputs": [
    {
     "name": "stdout",
     "output_type": "stream",
     "text": [
      "2012 Total spending per order\n",
      "count      152.000000\n",
      "mean      1862.137171\n",
      "std       2121.815144\n",
      "min         60.000000\n",
      "25%        559.750000\n",
      "50%       1319.550000\n",
      "75%       2456.062500\n",
      "max      15353.600000\n",
      "Name: Price_total, dtype: float64 \n",
      "\n",
      "2013 Total spending per order\n",
      "count      408.000000\n",
      "mean      1707.233137\n",
      "std       1914.725381\n",
      "min         12.500000\n",
      "25%        518.600000\n",
      "50%       1182.600000\n",
      "75%       2214.187500\n",
      "max      14366.500000\n",
      "Name: Price_total, dtype: float64 \n",
      "\n",
      "2014 Total spending per order\n",
      "count      270.000000\n",
      "mean      1739.893852\n",
      "std       2427.355997\n",
      "min         30.000000\n",
      "25%        508.500000\n",
      "50%        932.025000\n",
      "75%       1959.107500\n",
      "max      17250.000000\n",
      "Name: Price_total, dtype: float64 \n",
      "\n"
     ]
    },
    {
     "name": "stderr",
     "output_type": "stream",
     "text": [
      "C:\\Users\\woogu\\Anaconda3\\envs\\learn-env\\lib\\site-packages\\scipy\\stats\\stats.py:1713: FutureWarning: Using a non-tuple sequence for multidimensional indexing is deprecated; use `arr[tuple(seq)]` instead of `arr[seq]`. In the future this will be interpreted as an array index, `arr[np.array(seq)]`, which will result either in an error or a different result.\n",
      "  return np.add.reduce(sorted[indexer] * weights, axis=axis) / sumval\n"
     ]
    },
    {
     "data": {
      "image/png": "[encoded data removed]",
      "text/plain": [
       "<Figure size 432x288 with 1 Axes>"
      ]
     },
     "metadata": {
      "needs_background": "light"
     },
     "output_type": "display_data"
    }
   ],
   "source": [
    "''' do people spend less money per order?\n",
    "    1)Divide df by years\n",
    "    2)Collect by order using OrderId\n",
    "    3)check for outliers\n",
    "    4)conduct Welch's ttest\n",
    "    '''\n",
    "\n",
    "Orders_by_Year ={}\n",
    "Total_per_Order =[]\n",
    "for i, year in enumerate(df.Year_Order.unique()):\n",
    "    Orders_by_Year[year] = df[df.Year_Order == year]\n",
    "    Total_per_Order.append(Orders_by_Year[year].groupby('OrderId').Price_total.sum())\n",
    "    print(year,'Total spending per order')\n",
    "    print(Total_per_Order[i].describe(),'\\n')\n",
    "    sns_plot =sns.distplot(Total_per_Order[i], label = str(year))\n",
    "plt.legend()\n",
    "plt.title('Total spending per order'.title())\n",
    "plt.show()\n",
    "# fig1 = sns_plot.get_figure() \n",
    "# fig1.savefig('spending_order_kde.png', dpi=400, bbox_inches=\"tight\") #Saving fig"
   ]
  },
  {
   "cell_type": "code",
   "execution_count": 25,
   "metadata": {
    "scrolled": true
   },
   "outputs": [
    {
     "name": "stdout",
     "output_type": "stream",
     "text": [
      "0.8th percentile:\t2012:2839.33\t2013:2496.75\t2014:2236.04\n",
      "0.81th percentile:\t2012:2854.75\t2013:2558.35\t2014:2352.68\n",
      "0.82th percentile:\t2012:2903.88\t2013:2625.23\t2014:2429.17\n",
      "0.83th percentile:\t2012:2974.91\t2013:2712.4\t2014:2631.75\n",
      "0.84th percentile:\t2012:3087.34\t2013:2763.18\t2014:2737.78\n",
      "0.85th percentile:\t2012:3131.17\t2013:2827.11\t2014:2835.7\n",
      "0.86th percentile:\t2012:3178.46\t2013:2942.18\t2014:2977.4\n",
      "0.87th percentile:\t2012:3273.51\t2013:3121.33\t2014:3108.1\n",
      "0.88th percentile:\t2012:3416.26\t2013:3359.5\t2014:3514.05\n",
      "0.89th percentile:\t2012:3556.28\t2013:3432.97\t2014:3612.7\n",
      "0.9th percentile:\t2012:3622.88\t2013:3626.4\t2014:3743.2\n",
      "0.91th percentile:\t2012:3707.1\t2013:3908.79\t2014:4345.77\n",
      "0.92th percentile:\t2012:3898.5\t2013:4163.23\t2014:4689.64\n",
      "0.93th percentile:\t2012:4219.36\t2013:4331.61\t2014:4776.57\n",
      "0.94th percentile:\t2012:4557.69\t2013:4609.34\t2014:4927.15\n",
      "0.95th percentile:\t2012:4832.37\t2013:4832.81\t2014:5866.64\n",
      "0.96th percentile:\t2012:5190.96\t2013:5193.64\t2014:6580.71\n",
      "0.97th percentile:\t2012:6532.01\t2013:6359.25\t2014:8174.59\n",
      "0.98th percentile:\t2012:7686.55\t2013:7208.53\t2014:10100.8\n",
      "0.99th percentile:\t2012:11293.8\t2013:10189.82\t2014:12829.68\n",
      "1.0th percentile:\t2012:15353.6\t2013:14366.5\t2014:17250.0\n"
     ]
    }
   ],
   "source": [
    "\n",
    "#Investigate Percentiles to find outliers \n",
    "for q in np.linspace(0.8,1,num=21):\n",
    "    q2012 = round(Total_per_Order[0].quantile(q=q),2)\n",
    "    q2013 = round(Total_per_Order[1].quantile(q=q),2)\n",
    "    q2014 = round(Total_per_Order[2].quantile(q=q),2)\n",
    "    print('{}th percentile:\\t2012:{}\\t2013:{}\\t2014:{}'.format(round(q,2), q2012, q2013,q2014 ))"
   ]
  },
  {
   "cell_type": "code",
   "execution_count": 26,
   "metadata": {},
   "outputs": [
    {
     "ename": "NameError",
     "evalue": "name 'phrases' is not defined",
     "output_type": "error",
     "traceback": [
      "\u001b[1;31m---------------------------------------------------------------------------\u001b[0m",
      "\u001b[1;31mNameError\u001b[0m                                 Traceback (most recent call last)",
      "\u001b[1;32m<ipython-input-26-6df539477b5d>\u001b[0m in \u001b[0;36m<module>\u001b[1;34m()\u001b[0m\n\u001b[0;32m      4\u001b[0m \u001b[0mcompare\u001b[0m\u001b[1;33m[\u001b[0m\u001b[1;36m2014\u001b[0m\u001b[1;33m]\u001b[0m\u001b[1;33m=\u001b[0m \u001b[0mTotal_per_Order\u001b[0m\u001b[1;33m[\u001b[0m\u001b[1;36m2\u001b[0m\u001b[1;33m]\u001b[0m\u001b[1;33m\u001b[0m\u001b[0m\n\u001b[0;32m      5\u001b[0m \u001b[1;31m# Orders_by_Year\u001b[0m\u001b[1;33m\u001b[0m\u001b[1;33m\u001b[0m\u001b[0m\n\u001b[1;32m----> 6\u001b[1;33m \u001b[0manova_oneway_summary\u001b[0m\u001b[1;33m(\u001b[0m\u001b[0mcompare\u001b[0m\u001b[1;33m,\u001b[0m\u001b[1;34m'total spending per order'\u001b[0m\u001b[1;33m,\u001b[0m\u001b[0mstats\u001b[0m\u001b[1;33m.\u001b[0m\u001b[0mf_oneway\u001b[0m\u001b[1;33m(\u001b[0m\u001b[0mTotal_per_Order\u001b[0m\u001b[1;33m[\u001b[0m\u001b[1;36m0\u001b[0m\u001b[1;33m]\u001b[0m\u001b[1;33m,\u001b[0m\u001b[0mTotal_per_Order\u001b[0m\u001b[1;33m[\u001b[0m\u001b[1;36m1\u001b[0m\u001b[1;33m]\u001b[0m\u001b[1;33m,\u001b[0m\u001b[0mTotal_per_Order\u001b[0m\u001b[1;33m[\u001b[0m\u001b[1;36m2\u001b[0m\u001b[1;33m]\u001b[0m\u001b[1;33m)\u001b[0m\u001b[1;33m[\u001b[0m\u001b[1;36m1\u001b[0m\u001b[1;33m]\u001b[0m\u001b[1;33m)\u001b[0m\u001b[1;33m\u001b[0m\u001b[0m\n\u001b[0m",
      "\u001b[1;32m<ipython-input-6-65ab5b8fea9c>\u001b[0m in \u001b[0;36manova_oneway_summary\u001b[1;34m(dict_dfs, measurement, f_test_p, alpha)\u001b[0m\n\u001b[0;32m     28\u001b[0m     \u001b[1;32mfor\u001b[0m \u001b[0mi\u001b[0m \u001b[1;32min\u001b[0m \u001b[0mrange\u001b[0m\u001b[1;33m(\u001b[0m\u001b[0mlen\u001b[0m\u001b[1;33m(\u001b[0m\u001b[0mnames\u001b[0m\u001b[1;33m)\u001b[0m\u001b[1;33m)\u001b[0m\u001b[1;33m:\u001b[0m\u001b[1;33m\u001b[0m\u001b[0m\n\u001b[0;32m     29\u001b[0m         \u001b[1;32mif\u001b[0m \u001b[0mi\u001b[0m \u001b[1;33m<\u001b[0m\u001b[0mlen\u001b[0m\u001b[1;33m(\u001b[0m\u001b[0mnames\u001b[0m\u001b[1;33m)\u001b[0m\u001b[1;33m-\u001b[0m\u001b[1;36m1\u001b[0m\u001b[1;33m:\u001b[0m\u001b[1;33m\u001b[0m\u001b[0m\n\u001b[1;32m---> 30\u001b[1;33m             \u001b[0mphrases\u001b[0m\u001b[1;33m.\u001b[0m\u001b[0mappend\u001b[0m\u001b[1;33m(\u001b[0m\u001b[0mstr\u001b[0m\u001b[1;33m(\u001b[0m\u001b[0mnames\u001b[0m\u001b[1;33m[\u001b[0m\u001b[0mi\u001b[0m\u001b[1;33m]\u001b[0m\u001b[1;33m)\u001b[0m\u001b[1;33m+\u001b[0m\u001b[1;34m', '\u001b[0m\u001b[1;33m)\u001b[0m\u001b[1;33m\u001b[0m\u001b[0m\n\u001b[0m\u001b[0;32m     31\u001b[0m         \u001b[1;32melse\u001b[0m\u001b[1;33m:\u001b[0m\u001b[1;33m\u001b[0m\u001b[0m\n\u001b[0;32m     32\u001b[0m             \u001b[0mphrases\u001b[0m\u001b[1;33m.\u001b[0m\u001b[0mappend\u001b[0m\u001b[1;33m(\u001b[0m\u001b[1;34m'and '\u001b[0m\u001b[1;33m+\u001b[0m \u001b[0mstr\u001b[0m\u001b[1;33m(\u001b[0m\u001b[0mnames\u001b[0m\u001b[1;33m[\u001b[0m\u001b[0mi\u001b[0m\u001b[1;33m]\u001b[0m\u001b[1;33m)\u001b[0m\u001b[1;33m)\u001b[0m\u001b[1;33m\u001b[0m\u001b[0m\n",
      "\u001b[1;31mNameError\u001b[0m: name 'phrases' is not defined"
     ]
    }
   ],
   "source": [
    "compare ={}\n",
    "compare[2012] = Total_per_Order[0]\n",
    "compare[2013] = Total_per_Order[1]\n",
    "compare[2014]= Total_per_Order[2]\n",
    "# Orders_by_Year \n",
    "anova_oneway_summary(compare,'total spending per order',stats.f_oneway(Total_per_Order[0],Total_per_Order[1],Total_per_Order[2])[1])"
   ]
  },
  {
   "cell_type": "markdown",
   "metadata": {},
   "source": [
    "Using $\\alpha = 0.05$, we fail to reject both null hypotheses. That means, we can't find enough evidence to conclude that there were significant change in how each customer spent per order for those three years.  \n",
    "\n",
    "So far, we see that the total number of sales had increased from 2012 to 2013 then decreased from 2013 to 2014 and it was also consistent in sales by categories. \n",
    "\n",
    "However, we couldn't find enough evidence that changes in the average spending per order was significant.\n"
   ]
  },
  {
   "cell_type": "markdown",
   "metadata": {},
   "source": [
    "# Quantity per Order by years"
   ]
  },
  {
   "cell_type": "markdown",
   "metadata": {},
   "source": [
    "Conducting ANOVA test \n",
    "\n",
    "$H_0$ : The average of quantity per order in year 2012, 2013, and 2014 ($\\mu_{2012}$, $\\mu_{2013}$, $\\mu_{2014}$) has not changed.\n",
    "\n",
    "$$ \\large\\mu_{2012} = \\mu_{2013} = \\mu_{2014}$$\n",
    "\n",
    "$H_a$ : The averages of quantity per order are different from one year to the others (at least one of them is different from the other two averages). \n"
   ]
  },
  {
   "cell_type": "code",
   "execution_count": null,
   "metadata": {},
   "outputs": [],
   "source": [
    "data =[]\n",
    "data += [(2012, o) for o in df.loc[df.Year_Order==2012].Quantity]\n",
    "data += [(2013, o) for o in df.loc[df.Year_Order==2013].Quantity]\n",
    "data += [(2014, o) for o in df.loc[df.Year_Order==2014].Quantity]\n",
    "\n",
    "\n",
    "# test[2013]=Total_per_Order[1].reset_index()\n",
    "# test[2014]=Total_per_Order[2].reset_index()\n",
    "data =pd.DataFrame(data)\n",
    "data.columns =['Year','Quantity']\n",
    "\n",
    "fig, ax = plt.subplots(figsize=(15,8))\n",
    "\n",
    "sns.violinplot(\n",
    "    y=\"Quantity\", \n",
    "    x=\"Year\", \n",
    "    data=data, \n",
    "    ax=ax,\n",
    "#     color='aqua',\n",
    "    inner=\"quartile\",  # Seeing the mean and quariles\n",
    "    bw=.3              # How much smoothing do we usec\n",
    ")\n",
    "\n",
    "sns_plot = sns.swarmplot(ax=ax, x=\"Year\", y=\"Quantity\", data=data, color ='orange', alpha=0.5, size=5)\n",
    "plt.ylabel('Quantity per order'.title(), fontsize =15)\n",
    "plt.xlabel('Year', fontsize =15)\n",
    "plt.title('quantity per order'.title(), fontsize =20)\n",
    "ax.tick_params(axis='both', which='major', labelsize=15)\n",
    "#saving figure as image\n",
    "fig1 = sns_plot.get_figure()\n",
    "# fig.savefig('violin_quantity.png', dpi=400, bbox_inches=\"tight\")"
   ]
  },
  {
   "cell_type": "code",
   "execution_count": null,
   "metadata": {},
   "outputs": [],
   "source": [
    "\n",
    "a=list(df.loc[df.Year_Order==2012].Quantity)\n",
    "b=list(df.loc[df.Year_Order==2013].Quantity)\n",
    "c=list(df.loc[df.Year_Order==2014].Quantity)\n",
    "compare = {2012:df.loc[df.Year_Order==2012].Quantity,\n",
    "          2013:df.loc[df.Year_Order==2013].Quantity,\n",
    "          2014:df.loc[df.Year_Order==2014].Quantity}\n",
    "measurement =' average quantity per order in year'\n",
    "f = stats.f_oneway(a,b,c)[1]\n",
    "anova_oneway_summary(compare,measurement, f,alpha =0.05)"
   ]
  },
  {
   "cell_type": "markdown",
   "metadata": {},
   "source": [
    "# Customer retention rate"
   ]
  },
  {
   "cell_type": "markdown",
   "metadata": {},
   "source": [
    "Let us investigate the retention rate for customers. \n",
    "Divide `CustomerId` into three groups by year in their order history using `OrderDate`. "
   ]
  },
  {
   "cell_type": "code",
   "execution_count": null,
   "metadata": {},
   "outputs": [],
   "source": [
    "query =\"\"\"\n",
    "            SELECT CustomerId, \n",
    "                    Year_Order,\n",
    "                    COUNT(DISTINCT(OrderId)) as Order_Counts,\n",
    "                    SUM(Price_total) as Total$\n",
    "            FROM df\n",
    "            GROUP BY 1,2\n",
    "            \"\"\"\n",
    "customers = pysqldf(query)\n",
    "customers.head()\n",
    "# df.groupby(['CustomerId','Year_Order']).OrderId.count()"
   ]
  },
  {
   "cell_type": "code",
   "execution_count": null,
   "metadata": {},
   "outputs": [],
   "source": [
    "c12 = customers.query('Year_Order == 2012')\n",
    "c13 = customers.query('Year_Order == 2013')\n",
    "c14 = customers.query('Year_Order == 2014')\n",
    "q = \"\"\"SELECT * \n",
    "        FROM c14 \n",
    "        LEFT JOIN c13 USING(CustomerId)\n",
    "        LEFT JOIN c12 using(CustomerId)\"\"\"\n",
    "customer_history = pysqldf(q)\n",
    "customer_history.columns = rename_dup_columns(customer_history)\n",
    "customer_history.head()"
   ]
  },
  {
   "cell_type": "code",
   "execution_count": null,
   "metadata": {},
   "outputs": [],
   "source": [
    "customer_history.Year_Order_1.fillna(2013, inplace =True)\n",
    "customer_history.Order_Counts_1.fillna(0,inplace =True)\n",
    "customer_history['Total$_1'].fillna(0,inplace = True)\n",
    "customer_history.Year_Order_2.fillna(2012, inplace =True)\n",
    "customer_history.Order_Counts_2.fillna(0,inplace =True)\n",
    "customer_history['Total$_2'].fillna(0,inplace = True)"
   ]
  },
  {
   "cell_type": "code",
   "execution_count": null,
   "metadata": {
    "scrolled": true
   },
   "outputs": [],
   "source": [
    "customer_history.describe()"
   ]
  },
  {
   "cell_type": "markdown",
   "metadata": {},
   "source": [
    "Number of new customer in 2014 (no order history in 2012 and 2013)"
   ]
  },
  {
   "cell_type": "code",
   "execution_count": null,
   "metadata": {},
   "outputs": [],
   "source": [
    "new_2014 = customer_history.query('Order_Counts_2 ==0 &Order_Counts_1 ==0 ')\n",
    "print(f'There are {len(new_2014)} new customers in 2014.')"
   ]
  },
  {
   "cell_type": "markdown",
   "metadata": {},
   "source": [
    "Number of new customer in 2013 (no order history in 2012)"
   ]
  },
  {
   "cell_type": "code",
   "execution_count": null,
   "metadata": {
    "scrolled": true
   },
   "outputs": [],
   "source": [
    "new_2013 = customer_history.query('Order_Counts_2 ==0 &Order_Counts_1 !=0 ')\n",
    "print(f'There are {len(new_2013)} new customers in 2013.')"
   ]
  },
  {
   "cell_type": "markdown",
   "metadata": {},
   "source": [
    "The retention rate shows the rate of customers from the previous year continuing to make purchases in the next year. \n",
    "\n",
    "\n",
    "$$retention\\ rate_{year} = \\frac{ number\\ of\\ customers_{year}-number\\ of\\ new\\ customers_{year}}{ number\\ of\\ customers_{previous\\ year}}\\times 100$$"
   ]
  },
  {
   "cell_type": "markdown",
   "metadata": {},
   "source": [
    "Retention rate in 2014 "
   ]
  },
  {
   "cell_type": "code",
   "execution_count": null,
   "metadata": {},
   "outputs": [],
   "source": [
    "customer_counts_2014 = len(customer_history.query('Order_Counts !=0'))\n",
    "customer_counts_2013 = len(customer_history.query('Order_Counts_1 !=0 | Order_Counts_2 !=0 '))\n",
    "retention_rate2014= round((customer_counts_2014 - len(new_2014))/customer_counts_2013*100,2)\n",
    "print(f'The retention rate in 2014 is {retention_rate2014}%' )"
   ]
  },
  {
   "cell_type": "code",
   "execution_count": null,
   "metadata": {},
   "outputs": [],
   "source": [
    "customer_counts_2013 = len(customer_history.query('Order_Counts_1 !=0'))\n",
    "customer_counts_2012 = len(customer_history.query('Order_Counts_2 !=0  '))\n",
    "retention_rate2013= round((customer_counts_2013 - len(new_2013))/customer_counts_2012*100,2)\n",
    "print(f'The retention rate in 2013 is {retention_rate2013}%' )"
   ]
  },
  {
   "cell_type": "markdown",
   "metadata": {},
   "source": [
    "The retention rates over 2013 and 2014 shows most if not all customers kept making purchases. "
   ]
  },
  {
   "cell_type": "markdown",
   "metadata": {},
   "source": [
    "* There are only one new customer in 2014 whereas 19 new customers in 2013. \n",
    "* The retention rates for 2014 and 2013 were 100% and 98% respectively.  \n",
    "\n",
    "This observations explain the reason for the increased total sales in 2013 explains.\n",
    "However, we need to investigate the reason for the decrease in total sales in 2014. \n",
    "\n",
    "We are going to conduct Welch's t-test to answer:\n",
    "**<center>if the average number of orders per customer changed from 2013 to 2014</center>**\n",
    " "
   ]
  },
  {
   "cell_type": "markdown",
   "metadata": {},
   "source": [
    "## Average number of orders per customer in each year"
   ]
  },
  {
   "cell_type": "code",
   "execution_count": null,
   "metadata": {},
   "outputs": [],
   "source": [
    "data.Year.unique()"
   ]
  },
  {
   "cell_type": "code",
   "execution_count": null,
   "metadata": {},
   "outputs": [],
   "source": [
    "data =[]\n",
    "data += [('2012', o) for o in customer_history.Order_Counts_2]\n",
    "data += [('2013', o) for o in customer_history.Order_Counts_1] \n",
    "data += [('2014', o) for o in customer_history.Order_Counts] \n",
    "# test[2013]=Total_per_Order[1].reset_index()\n",
    "# test[2014]=Total_per_Order[2].reset_index()\n",
    "data =pd.DataFrame(data)\n",
    "data.columns =['Year','Orders']\n",
    "\n",
    "fig, ax = plt.subplots(figsize=(15,8))\n",
    "\n",
    "sns.violinplot(\n",
    "    y=\"Orders\", \n",
    "    x=\"Year\", \n",
    "    data=data, \n",
    "    ax=ax,\n",
    "#     color='aqua',\n",
    "    inner=\"quartile\",  # Seeing the mean and quariles\n",
    "    bw=.3              # How much smoothing do we usec\n",
    ")\n",
    "sns_plot = sns.swarmplot(ax=ax, x=\"Year\", y=\"Orders\", data=data, color='orange', alpha=0.5, size=5)\n",
    "plt.yticks(np.arange(0, 20, step=1), fontsize = 13)\n",
    "ax.tick_params(axis='both', which='major', labelsize=13)\n",
    "plt.ylabel('Orders per customer in a year'.title(), fontsize = 15)\n",
    "plt.xlabel('Year',fontsize =15)\n",
    "plt.title('Orders per customer in a year'.title(), fontsize = 25)\n",
    "\n",
    "fig1 = sns_plot.get_figure() \n",
    "fig1.savefig('Orders_cust.png', dpi=400, bbox_inches=\"tight\") #Saving fig"
   ]
  },
  {
   "cell_type": "markdown",
   "metadata": {},
   "source": [
    "There are obvious outliers in the plot above so we check for quantile values and count outliers."
   ]
  },
  {
   "cell_type": "code",
   "execution_count": null,
   "metadata": {
    "scrolled": true
   },
   "outputs": [],
   "source": [
    "#Investigate Percentiles to find outliers \n",
    "for q in np.linspace(0.8,1,num=21):\n",
    "    q2012 = round(customer_history.Order_Counts_2.quantile(q=q),2)\n",
    "    q2013 = round(customer_history.Order_Counts_1.quantile(q=q),2)\n",
    "    q2014 = round(customer_history.Order_Counts.quantile(q=q),2)\n",
    "    print('{}th percentile:\\t2012:{}\\t2013:{}\\t2014:{}'.format(round(q,2), q2012, q2013,q2014 ))"
   ]
  },
  {
   "cell_type": "code",
   "execution_count": null,
   "metadata": {},
   "outputs": [],
   "source": [
    "# sum(data.Orders>10)\n",
    "customer_history.loc[customer_history.Order_Counts_1>10]"
   ]
  },
  {
   "cell_type": "markdown",
   "metadata": {},
   "source": [
    "We drop these three observations and conduct the ANOVA test."
   ]
  },
  {
   "cell_type": "code",
   "execution_count": null,
   "metadata": {},
   "outputs": [],
   "source": [
    "drop_rows =customer_history[customer_history.Order_Counts_1>10].index\n",
    "customer_history_filtered =customer_history.drop(drop_rows)"
   ]
  },
  {
   "cell_type": "code",
   "execution_count": null,
   "metadata": {
    "scrolled": true
   },
   "outputs": [],
   "source": [
    "data =[]\n",
    "data += [('2012', o) for o in customer_history_filtered.Order_Counts_2]\n",
    "data += [('2013', o) for o in customer_history_filtered.Order_Counts_1] \n",
    "data += [('2014', o) for o in customer_history_filtered.Order_Counts] \n",
    "# test[2013]=Total_per_Order[1].reset_index()\n",
    "# test[2014]=Total_per_Order[2].reset_index()\n",
    "data =pd.DataFrame(data)\n",
    "data.columns =['Year','Orders']\n",
    "\n",
    "fig, ax = plt.subplots(figsize=(15,8))\n",
    "\n",
    "sns.violinplot(\n",
    "    y=\"Orders\", \n",
    "    x=\"Year\", \n",
    "    data=data, \n",
    "    ax=ax,\n",
    "#     color='aqua',\n",
    "    inner=\"quartile\",  # Seeing the mean and quariles\n",
    "    bw=.3              # How much smoothing do we usec\n",
    ")\n",
    "sns_plot = sns.swarmplot(ax=ax, x=\"Year\", y=\"Orders\", data=data, color='orange', alpha=0.5, size=5)\n",
    "plt.ylabel('Orders per customer in a year'.title(),fontsize = 15)\n",
    "plt.xlabel('Year',fontsize =15, rotation =0)\n",
    "plt.yticks(np.arange(0, 12, step=1))\n",
    "ax.tick_params(axis='both', which='major', labelsize=15)\n",
    "plt.title('The distiribution of orders per customer in a year'.title(), fontsize =20)\n",
    "\n",
    "fig1 = sns_plot.get_figure() \n",
    "fig1.savefig('Orders_cust_filtered.png', dpi=400, bbox_inches=\"tight\") #Saving fig"
   ]
  },
  {
   "cell_type": "markdown",
   "metadata": {},
   "source": [
    "First, let us compare all three years.\n",
    "\n",
    "$H_0$ : The average number of orders per customer in year 2012, 2013, and 2014 ($\\mu_{2012}$, $\\mu_{2013}$, $\\mu_{2014}$) has not changed.\n",
    "\n",
    "$$ \\large\\mu_{2012} = \\mu_{2013} = \\mu_{2014}$$\n",
    "\n",
    "$H_a$ : The average number of order per customer are different from one year to the others (at least one of them is different from the other two averages). "
   ]
  },
  {
   "cell_type": "markdown",
   "metadata": {},
   "source": [
    "* Conducting the test with outliers"
   ]
  },
  {
   "cell_type": "code",
   "execution_count": null,
   "metadata": {},
   "outputs": [],
   "source": [
    "compare={}\n",
    "compare['2012']=customer_history.Order_Counts_2\n",
    "compare['2013']=customer_history.Order_Counts_1\n",
    "compare['2014']=customer_history.Order_Counts\n",
    "f_test_p =stats.f_oneway(compare['2012'], compare['2013'],compare['2014'])[1]\n",
    "anova_oneway_summary(compare,'the mean numbers of orders per customer', f_test_p ,alpha =0.05)\n",
    "stats.f_oneway(customer_history.Order_Counts_2, customer_history.Order_Counts_1,customer_history.Order_Counts)[1]"
   ]
  },
  {
   "cell_type": "markdown",
   "metadata": {},
   "source": [
    "* Conducting the test WITHOUT outliers"
   ]
  },
  {
   "cell_type": "code",
   "execution_count": null,
   "metadata": {},
   "outputs": [],
   "source": [
    "compare={}\n",
    "compare['2012']=customer_history_filtered.Order_Counts_2\n",
    "compare['2013']=customer_history_filtered.Order_Counts_1\n",
    "compare['2014']=customer_history_filtered.Order_Counts\n",
    "f_test_p =stats.f_oneway(compare['2012'], compare['2013'],compare['2014'])[1]\n",
    "anova_oneway_summary(compare,'the mean numbers of orders per customer', f_test_p ,alpha =0.05)\n",
    "stats.f_oneway(customer_history_filtered.Order_Counts_2, customer_history_filtered.Order_Counts_1,customer_history_filtered.Order_Counts)[1]"
   ]
  },
  {
   "cell_type": "markdown",
   "metadata": {},
   "source": [
    "Now, we see the change in the average number of orders from 2013 to 2014. \n",
    "\n",
    "$H_0$ : The average number of orders per customer in year 2013 and 2014 ( $\\mu_{2013}$, $\\mu_{2014}$) has not changed.\n",
    "\n",
    "$$ \\mu_{2013} \\le \\mu_{2014}$$\n",
    "\n",
    "$H_a$ : The average number of orders per customer decreased from 2013 to 2014 . \n",
    "$$ \\mu_{2013} > \\mu_{2014}$$"
   ]
  },
  {
   "cell_type": "markdown",
   "metadata": {},
   "source": [
    "* With outliers"
   ]
  },
  {
   "cell_type": "code",
   "execution_count": null,
   "metadata": {
    "scrolled": false
   },
   "outputs": [],
   "source": [
    "compare = {}\n",
    "compare['2013']=customer_history.Order_Counts_1\n",
    "compare['2014']=customer_history.Order_Counts\n",
    "welch_summary(compare, 'total number of orders per year ')"
   ]
  },
  {
   "cell_type": "markdown",
   "metadata": {},
   "source": [
    "* WITHOUT outliers"
   ]
  },
  {
   "cell_type": "code",
   "execution_count": null,
   "metadata": {},
   "outputs": [],
   "source": [
    "compare = {}\n",
    "compare['2013']=customer_history_filtered.Order_Counts_1\n",
    "compare['2014']=customer_history_filtered.Order_Counts\n",
    "welch_summary(compare, 'total number of orders per year ')"
   ]
  },
  {
   "cell_type": "markdown",
   "metadata": {},
   "source": [
    "Note that the Cohen's d value became larger after filtering outliers which is in medium level of effect size. So the difference in number of orders per customer from 2013 to 2014 is significant and the decrease in the number of orders is in the medium level. "
   ]
  },
  {
   "cell_type": "markdown",
   "metadata": {},
   "source": [
    "# Quantity per order depending on positions of employees (managers vs. sales rep.)"
   ]
  },
  {
   "cell_type": "code",
   "execution_count": null,
   "metadata": {
    "scrolled": true
   },
   "outputs": [],
   "source": [
    "query  = \"\"\"SELECT o.*, od.*, p.*, c.*,\n",
    "                    e.Id, e.LastName, e.FirstName, e.Title, e.HireDate, e.Region\n",
    "             FROM [Order] AS o\n",
    "             JOIN OrderDetail AS od ON (o.Id== od.OrderId)\n",
    "             JOIN Employee AS e ON (o.EmployeeId = e.Id)\n",
    "             JOIN Product AS p ON(od.ProductId = p.Id)\n",
    "             JOIN Customer AS c on (o.CustomerId = c.Id)\"\"\"\n",
    "\n",
    "employee_effect = pd.read_sql(query,conn)\n",
    "employee_effect.columns = rename_dup_columns(employee_effect)"
   ]
  },
  {
   "cell_type": "code",
   "execution_count": null,
   "metadata": {
    "scrolled": true
   },
   "outputs": [],
   "source": [
    "employee_effect['Year_Order'] = [int(x[:4]) for x in employee_effect.OrderDate]\n",
    "Order_count = employee_effect.groupby(['Year_Order','EmployeeId']).count().OrderId\n",
    "order_count_df =pd.DataFrame({2012:Order_count[2012], \n",
    "                              2013:Order_count[2013], \n",
    "                              2014:Order_count[2014]})\n",
    "fig = plt.figure()\n",
    "order_count_df.plot.bar()\n",
    "plt.title('Comparison of order counts by year'.title())\n",
    "\n",
    "\n",
    "# fig.savefig('OrderCount_empl.png', dpi=400, bbox_inches=\"tight\") #Saving fig"
   ]
  },
  {
   "cell_type": "code",
   "execution_count": null,
   "metadata": {},
   "outputs": [],
   "source": [
    "titles={}\n",
    "for Id in employee_effect.EmployeeId.unique():\n",
    "    titles[Id] = employee_effect.loc[employee_effect['EmployeeId'] == Id].Title.unique()[0]\n",
    "sorted_titles = sorted(titles.items(), key = lambda kv:kv[0])\n",
    "# pd.DataFrame(titles, index = titles.keys(), column =)"
   ]
  },
  {
   "cell_type": "markdown",
   "metadata": {},
   "source": [
    "As decrease in sales made by each employee by years seem varied, average quantity per order was compared between two groups; managerial groups and sales rep. group. "
   ]
  },
  {
   "cell_type": "code",
   "execution_count": null,
   "metadata": {},
   "outputs": [],
   "source": [
    "#collection of manager group data\n",
    "manager1 = employee_effect.loc[employee_effect.EmployeeId ==2]\n",
    "manager2 = employee_effect.loc[employee_effect.EmployeeId ==5]\n",
    "manager3 = employee_effect.loc[employee_effect.EmployeeId ==8]\n",
    "manager = pd.concat([manager1,manager2,manager3])"
   ]
  },
  {
   "cell_type": "code",
   "execution_count": null,
   "metadata": {},
   "outputs": [],
   "source": [
    "#collection of sales rep. group data\n",
    "rep =[]\n",
    "repId =[1,3,4,6,7,9]\n",
    "for Id in repId:\n",
    "    rep.append(employee_effect.loc[employee_effect.EmployeeId ==Id])\n",
    "\n",
    "salesRep= pd.concat(rep)"
   ]
  },
  {
   "cell_type": "code",
   "execution_count": null,
   "metadata": {
    "scrolled": true
   },
   "outputs": [],
   "source": [
    "for year in [2012,2013,2014]:\n",
    "    data =[]\n",
    "    data += [('manager', o) for o in manager.loc[manager['Year_Order']==year].Quantity]\n",
    "    data += [('salesRep', o) for o in salesRep.loc[salesRep['Year_Order']==year].Quantity] \n",
    "\n",
    "\n",
    "    # test[2013]=Total_per_Order[1].reset_index()\n",
    "    # test[2014]=Total_per_Order[2].reset_index()\n",
    "    data =pd.DataFrame(data)\n",
    "    data.columns =['Position','Quantity']\n",
    "\n",
    "    fig, ax = plt.subplots(figsize=(15,8))\n",
    "\n",
    "    sns.violinplot(\n",
    "        y=\"Quantity\", \n",
    "        x=\"Position\", \n",
    "        data=data, \n",
    "        ax=ax,\n",
    "#         color='aqua',\n",
    "        inner=\"quartile\",  # Seeing the mean and quariles\n",
    "        bw=.3              # How much smoothing do we usec\n",
    "    )\n",
    "    sns_plot = sns.swarmplot(ax=ax, x=\"Position\", y=\"Quantity\", data=data, color='orange', alpha=0.9, size=5)\n",
    "    plt.title(f'Quantity per sale made by two employee groups in {year}')\n",
    "\n",
    "#     fig1 = sns_plot.get_figure() #saving figures\n",
    "#     fig1.savefig(f'Quant_sale_group{year}.png', dpi=400, bbox_inches=\"tight\") #Saving fig\n"
   ]
  },
  {
   "cell_type": "markdown",
   "metadata": {},
   "source": [
    "$H_0$ : The difference in the average quantity per sale made by two groups ( $\\mu_{manager}$, $\\mu_{saleRep}$) is insignificant.\n",
    "\n",
    "$$ \\mu_{manager} = \\mu_{saleRep}$$\n",
    "\n",
    "$H_a$ : The difference in the average quantity per sale made by two groups is insignificant.\n",
    "$$ \\mu_{manager} \\ne \\mu_{saleRep}$$\n",
    "\n",
    "We use two way welch's t-test and we conduct this test for each year."
   ]
  },
  {
   "cell_type": "code",
   "execution_count": null,
   "metadata": {},
   "outputs": [],
   "source": [
    "for year in [2012,2013,2014]:\n",
    "    a=list(manager.loc[manager.Year_Order==year].Quantity)\n",
    "    b=list(salesRep.loc[salesRep.Year_Order==year].Quantity)\n",
    "    compare = {'manager':manager.loc[manager.Year_Order==year].Quantity,\n",
    "              'salesRep':salesRep.loc[salesRep.Year_Order==year].Quantity}\n",
    "    measurement =' average quantity per sale by two different groups '\n",
    "    f = stats.f_oneway(a,b)[1]\n",
    "    anova_oneway_summary(compare,measurement, f,alpha =0.05)"
   ]
  },
  {
   "cell_type": "markdown",
   "metadata": {},
   "source": [
    "# Influence of discounts on sales"
   ]
  },
  {
   "cell_type": "code",
   "execution_count": null,
   "metadata": {},
   "outputs": [],
   "source": [
    "df_tables['OrderDetail'].Discount.unique()"
   ]
  },
  {
   "cell_type": "code",
   "execution_count": null,
   "metadata": {},
   "outputs": [],
   "source": [
    "query = \"\"\" SELECT DISTINCT(Discount) FROM OrderDetail ORDER BY Discount DESC\"\"\"\n",
    "perc_disc = pd.read_sql(query,conn).Discount"
   ]
  },
  {
   "cell_type": "code",
   "execution_count": null,
   "metadata": {},
   "outputs": [],
   "source": [
    "subsets ={}\n",
    "for disc in perc_disc:\n",
    "    percent = int(disc*100)\n",
    "    subsets[percent] = df[df.Discount == disc].Quantity\n",
    "    subsets[percent] = subsets[percent].reset_index().drop('index', axis =1)\n",
    "    print(f'number of sales with {percent}% discount :', len(subsets[percent]))\n",
    "    "
   ]
  },
  {
   "cell_type": "code",
   "execution_count": null,
   "metadata": {},
   "outputs": [],
   "source": [
    "percents_testing = list(range(0,30,5))\n",
    "for percent in percents_testing:\n",
    "    lab =str(percent)+'%'\n",
    "    sns_plot =sns.distplot(subsets[percent], label = lab)\n",
    "    plt.xlabel('Quantities per order')\n",
    "    plt.legend()\n",
    "    plt.title('Distributions of Qunatities per order with varied dicount level'.title())\n",
    "\n",
    "# fig1 = sns_plot.get_figure() #saving figures\n",
    "# fig1.savefig(f'Quant_order_discount.png', dpi=400, bbox_inches=\"tight\") #Saving fig\n"
   ]
  },
  {
   "cell_type": "code",
   "execution_count": null,
   "metadata": {},
   "outputs": [],
   "source": [
    "data =[]\n",
    "data += [('0%', o) for o in subsets[0].Quantity]\n",
    "data += [('5%', o) for o in subsets[5].Quantity] \n",
    "data += [('10%', o) for o in subsets[10].Quantity] \n",
    "data += [('15%', o) for o in subsets[15].Quantity] \n",
    "data += [('20%', o) for o in subsets[20].Quantity] \n",
    "data += [('25%', o) for o in subsets[25].Quantity]  \n",
    "# test[2013]=Total_per_Order[1].reset_index()\n",
    "# test[2014]=Total_per_Order[2].reset_index()\n",
    "data =pd.DataFrame(data)\n",
    "data.columns =['Discount','Quantity']\n",
    "\n",
    "fig, ax = plt.subplots(figsize=(12,6))\n",
    "\n",
    "my_pal = {discount: \"r\" if discount == \"0%\" else \"b\" for discount in data.Discount.unique()}\n",
    " \n",
    "\n",
    "sns.violinplot(\n",
    "    y=\"Quantity\", \n",
    "    x=\"Discount\", \n",
    "    data=data, \n",
    "    ax=ax,\n",
    "    palette = my_pal,\n",
    "#     color='aqua',\n",
    "    inner=\"quartile\",  # Seeing the mean and quariles\n",
    "    bw=.8              # How much smoothing do we usec\n",
    ")\n",
    "sns_plot = sns.swarmplot(ax=ax, x=\"Discount\", y=\"Quantity\", data=data, color='grey', alpha=0.7, size=5)\n",
    "plt.ylabel('Quantities per order'.title(), fontsize =15)\n",
    "plt.xlabel('Discount', fontsize =15)\n",
    "plt.rc('xtick', labelsize = 13)\n",
    "plt.rc('ytick', labelsize = 13)\n",
    "plt.title('The distiribution of quantities per order with discounts'.title(), fontsize =20)\n",
    "\n",
    "fig1 = sns_plot.get_figure() #saving figures\n",
    "fig1.savefig(f'violin_Quant_sale_group.png', dpi=400, bbox_inches=\"tight\") #Saving fig\n"
   ]
  },
  {
   "cell_type": "code",
   "execution_count": null,
   "metadata": {},
   "outputs": [],
   "source": [
    "fig, ax = plt.subplots(figsize=(12,6))\n",
    "sns.boxplot(\n",
    "    y=\"Quantity\", \n",
    "    x=\"Discount\", \n",
    "    data=data, \n",
    "    ax=ax,\n",
    "    color='aqua',\n",
    "    linewidth = 4, \n",
    ")\n",
    "sns.swarmplot(\n",
    "    y=\"Quantity\", \n",
    "    x=\"Discount\", \n",
    "    data=data, \n",
    "    ax=ax,\n",
    "    color='orange',\n",
    "    alpha =0.9,\n",
    "    size =5\n",
    ")"
   ]
  },
  {
   "cell_type": "markdown",
   "metadata": {},
   "source": [
    "The distributions look very similar to each other from no discount to 5 different discount levels. "
   ]
  },
  {
   "cell_type": "markdown",
   "metadata": {},
   "source": [
    "So we want to conduct an ANOVA test to check if the difference in mean values ($\\mu_{10\\%}$, $\\mu_{5\\%}$, $\\mu_{10\\%}$, $\\mu_{15\\%}$, $\\mu_{20\\%}$, $\\mu_{25\\%}$) of quantities sold with and without discount is insignificant.  \n",
    "Null hypothesis($H_0$):\n",
    "$$\\Large\\mu_{10\\%} = \\mu_{5\\%} = \\mu_{10\\%} = \\mu_{15\\%} = \\mu_{20\\%} =\\mu_{25\\%}$$ "
   ]
  },
  {
   "cell_type": "code",
   "execution_count": null,
   "metadata": {},
   "outputs": [],
   "source": [
    "discounts = percents_testing[1:]\n",
    "no_disc = subsets[0].Quantity\n",
    "compare ={}\n",
    "compare['0%'] = no_disc\n",
    "compare_list = [no_disc]\n",
    "for discount in discounts:\n",
    "    disc = subsets[discount].Quantity\n",
    "    compare[str(discount)+'%'] =disc\n",
    "    compare_list.append(disc)\n",
    "f_test_p = stats.f_oneway(compare_list[0], compare_list[1],compare_list[2], compare_list[3], compare_list[4],compare_list[5])[1]\n",
    "anova_oneway_summary(compare,'the average quantities per order with discounts', f_test_p ,alpha =0.05)"
   ]
  },
  {
   "cell_type": "markdown",
   "metadata": {},
   "source": [
    "The graph above shows that the highest peak (mean) of plots shift slightly right as the discount increases. \n",
    "\n",
    "We want to test the differences in means between no discount and varied discount levels are statistically significant. \n",
    "Let us name the group of orders with no discount as control set and its mean in quantity per order as $\\mu_0$. Then name the groups with different  discount levels (5% ~ 25%) as experimental set and their means as $\\mu_1$.\n",
    "\n",
    "We want to conduct one-sided Welch's t-test as:\n",
    "* we compare two independent sets with different sizes and variances; \n",
    "* we expect the discount would encourage customers to buy more not less. \n",
    "\n",
    "Null hypothesis($H_0$):\n",
    "\n",
    "$$\\Large\\mu_1 \\le \\mu_0$$ \n",
    "\n",
    "Alternative hypothesis($H_a$):\n",
    "\n",
    "$$\\Large\\mu_1 > \\mu_0$$"
   ]
  },
  {
   "cell_type": "code",
   "execution_count": null,
   "metadata": {
    "scrolled": true
   },
   "outputs": [],
   "source": [
    "discounts = percents_testing[1:]\n",
    "no_disc = subsets[0].Quantity\n",
    "for discount in discounts:\n",
    "    disc = subsets[discount].Quantity\n",
    "    compare={str(discount)+'%':disc,'0%':no_disc}\n",
    "    welch_summary(compare,'means in quantities of an order', two_sided = False)\n"
   ]
  },
  {
   "cell_type": "code",
   "execution_count": null,
   "metadata": {},
   "outputs": [],
   "source": [
    "effect_sizes ={}\n",
    "# m0 = no_disc.mean().reset_index()[0][0]\n",
    "# std0 = no_disc.std().reset_index()[0][0]\n",
    "for discount in discounts:\n",
    "#     m1 = subsets[discount].mean().reset_index()[0][0]\n",
    "    effect = Cohen_d(subsets[discount],no_disc)\n",
    "    effect_sizes[discount]=effect"
   ]
  },
  {
   "cell_type": "code",
   "execution_count": null,
   "metadata": {},
   "outputs": [],
   "source": [
    "sns_plot = sns.barplot(x=discounts, y=list(effect_sizes.values()))\n",
    "plt.title('Effect sizes in quantities per order by discounts'.title())\n",
    "plt.xlabel('discounts (%)'.title())\n",
    "plt.ylabel(\"effect sizes\".title())\n",
    "\n",
    "# fig1 = sns_plot.get_figure() #saving figures\n",
    "# fig1.savefig(f'effect_discount.png', dpi=400, bbox_inches=\"tight\") #Saving fig\n"
   ]
  },
  {
   "cell_type": "markdown",
   "metadata": {},
   "source": [
    "The effect sizes in quantities of products per order by discounts are small. \n",
    "Sales with small discounts result in quantity changes in orders as the one with larger discounts. With 5% discounts, about 15% of a group is estimated to order more ( about 6 more units)\n",
    "\n",
    "https://rpsychologist.com/d3/cohend/"
   ]
  },
  {
   "cell_type": "markdown",
   "metadata": {},
   "source": [
    "# Suggestions for further investigation"
   ]
  },
  {
   "cell_type": "markdown",
   "metadata": {},
   "source": [
    "## Sales by categories\n",
    "Beberages and produce categories has less decrease in sales in 2014 than other categories. \n",
    "It is recommended to investigate what made sales these categories different than others."
   ]
  },
  {
   "cell_type": "code",
   "execution_count": null,
   "metadata": {},
   "outputs": [],
   "source": [
    "Orders_by_Year = []\n",
    "\n",
    "for i, year in enumerate(df.Year_Order.unique()):\n",
    "    Orders_by_Year.append(df[df.Year_Order == year].CategoryName) \n",
    "fig = plt.figure(figsize =(10,5))\n",
    "plt.hist(Orders_by_Year, label =['2012', '2013','2014'])\n",
    "plt.ylabel('number of orders'.title())\n",
    "plt.title('Total number of orders sorted by categories'.title())\n",
    "plt.legend()\n",
    "plt.show()"
   ]
  },
  {
   "cell_type": "markdown",
   "metadata": {},
   "source": [
    "## Sales by regional offices "
   ]
  },
  {
   "cell_type": "code",
   "execution_count": null,
   "metadata": {},
   "outputs": [],
   "source": [
    "def sum_sales_grouped_by_employee_year(year):\n",
    "    \"\"\"Compute total sales counts for varied shipping regions \n",
    "        made by two regional offices\n",
    "        Take: year in interger\n",
    "        Return: dictionary with\n",
    "                    key as the region of the office\n",
    "                    value as the total sale in each region\"\"\"\n",
    "    by_year = employee_effect.loc[employee_effect.Year_Order == year]\n",
    "\n",
    "    ship_region_list =np.array([0]*len(employee_effect.ShipRegion.unique()))\n",
    "    ship_region_list = pd.Series(ship_region_list)\n",
    "    ship_region_list.index =employee_effect.ShipRegion.unique()\n",
    "\n",
    "    employee_region ={}\n",
    "    for region in by_year.Region_1.unique():\n",
    "        employee_region[region] = ship_region_list\n",
    "\n",
    "    for e_id in by_year.EmployeeId.unique():\n",
    "        a = by_year.loc[by_year.EmployeeId == e_id].ShipRegion.value_counts()\n",
    "    #     print(a)\n",
    "        for region in ship_region_list.index:\n",
    "            if region not in a.index:\n",
    "                a[region] = 0\n",
    "\n",
    "        if by_year.loc[(by_year.EmployeeId==e_id)].Region_1.unique()[0] == 'British Isles':\n",
    "            employee_region['British Isles'] = employee_region['British Isles']+ a\n",
    "        else:\n",
    "            employee_region['North America'] = employee_region['North America'] + a\n",
    "    return(employee_region)"
   ]
  },
  {
   "cell_type": "code",
   "execution_count": null,
   "metadata": {},
   "outputs": [],
   "source": [
    "fig, axs = plt.subplots(1,3, figsize = (10,5),sharey=True)\n",
    "pd.DataFrame(sum_sales_grouped_by_employee_year(2012)).plot(kind ='bar',ax =axs[0])\n",
    "axs[0].set_title('2012')\n",
    "pd.DataFrame(sum_sales_grouped_by_employee_year(2013)).plot(kind ='bar',ax =axs[1])\n",
    "axs[1].set_title('2013')\n",
    "pd.DataFrame(sum_sales_grouped_by_employee_year(2014)).plot(kind ='bar',ax =axs[2])\n",
    "axs[2].set_title('2014')\n",
    "fig.suptitle('The orders in different regions between two offices'.title())\n",
    "\n",
    "\n",
    "# fig.savefig(f'order_region_office.png', dpi=400, bbox_inches=\"tight\") #Saving fig\n"
   ]
  },
  {
   "cell_type": "code",
   "execution_count": null,
   "metadata": {},
   "outputs": [],
   "source": [
    "USoffice_year ={}\n",
    "ENoffice_year ={}\n",
    "for i in [2012,2013,2014]:\n",
    "    USoffice_year[i]= sum_sales_grouped_by_employee_year(i)['North America']\n",
    "    ENoffice_year[i]= sum_sales_grouped_by_employee_year(i)['British Isles']\n",
    "USoffice_year = pd.DataFrame(USoffice_year)\n",
    "ENoffice_year = pd.DataFrame(ENoffice_year)\n",
    "fig, axs = plt.subplots(1,2, figsize = (10,5),sharey=True)\n",
    "USoffice_year.plot(kind = 'bar', ax= axs[0])\n",
    "fig.suptitle('Sales per year by offices'.title())\n",
    "axs[0].set_title('North America Office')\n",
    "ENoffice_year.plot(kind = 'bar', ax= axs[1])\n",
    "axs[1].set_title('British Isles Office')\n",
    "\n",
    "# fig.savefig('order_region_office2.png', dpi=400, bbox_inches=\"tight\") #Saving fig\n"
   ]
  },
  {
   "cell_type": "markdown",
   "metadata": {},
   "source": [
    "## Sales by regions"
   ]
  },
  {
   "cell_type": "markdown",
   "metadata": {},
   "source": [
    "* Total sales by regions"
   ]
  },
  {
   "cell_type": "code",
   "execution_count": null,
   "metadata": {
    "scrolled": true
   },
   "outputs": [],
   "source": [
    "sales_by_shippingRegion ={}\n",
    "for i in [2012,2013,2014]:\n",
    "    sales_by_shippingRegion[i]=sum(sum_sales_grouped_by_employee_year(i).values())\n",
    "a = sales_by_shippingRegion\n",
    "fig = plt.figure()\n",
    "pd.DataFrame(a).plot.bar()\n",
    "plt.title('Orders in each year by regions'.title())\n",
    "plt.ylabel('number of orders'.title())\n",
    "plt.xlabel('region'.title())\n",
    "\n",
    "# fig.savefig(f'order_region.png', dpi=400, bbox_inches=\"tight\") #Saving fig\n"
   ]
  },
  {
   "cell_type": "markdown",
   "metadata": {},
   "source": [
    "## Sales by suppliers"
   ]
  },
  {
   "cell_type": "code",
   "execution_count": null,
   "metadata": {},
   "outputs": [],
   "source": [
    "### counting orders by supplier Id\n",
    "q = \"\"\" SELECT SupplierId, COUNT(OrderId) as [2012]\n",
    "        FROM employee_effect WHERE Year_Order = 2012\n",
    "        GROUP BY 1\"\"\"\n",
    "supplier12 = pysqldf(q)\n",
    "q = \"\"\" SELECT SupplierId, COUNT(OrderId) as [2013]\n",
    "        FROM employee_effect WHERE Year_Order = 2013\n",
    "        GROUP BY 1\"\"\"\n",
    "supplier13 = pysqldf(q)\n",
    "q = \"\"\" SELECT SupplierId, COUNT(OrderId) as [2014]\n",
    "        FROM employee_effect WHERE Year_Order = 2014\n",
    "        GROUP BY 1\"\"\"\n",
    "supplier14 = pysqldf(q)\n",
    "supplier = supplier12.set_index('SupplierId').join(supplier13.set_index('SupplierId')).join(supplier14.set_index('SupplierId'))\n",
    "\n",
    "fig = plt.figure()\n",
    "supplier.plot.bar()\n",
    "plt.title('Sales devided by Suppliers'.title())\n",
    "plt.ylabel('number of orders'.title())\n",
    "plt.show()\n",
    "# fig.savefig('suppliers.png',dpi=400, bbox_inches=\"tight\")#saving fig"
   ]
  }
 ],
 "metadata": {
  "kernelspec": {
   "display_name": "Python 3",
   "language": "python",
   "name": "python3"
  },
  "language_info": {
   "codemirror_mode": {
    "name": "ipython",
    "version": 3
   },
   "file_extension": ".py",
   "mimetype": "text/x-python",
   "name": "python",
   "nbconvert_exporter": "python",
   "pygments_lexer": "ipython3",
   "version": "3.6.6"
  },
  "toc": {
   "base_numbering": 1,
   "nav_menu": {},
   "number_sections": true,
   "sideBar": true,
   "skip_h1_title": false,
   "title_cell": "Table of Contents",
   "title_sidebar": "Contents",
   "toc_cell": false,
   "toc_position": {
    "height": "calc(100% - 180px)",
    "left": "10px",
    "top": "150px",
    "width": "213.16px"
   },
   "toc_section_display": true,
   "toc_window_display": true
  },
  "varInspector": {
   "cols": {
    "lenName": 16,
    "lenType": 16,
    "lenVar": 40
   },
   "kernels_config": {
    "python": {
     "delete_cmd_postfix": "",
     "delete_cmd_prefix": "del ",
     "library": "var_list.py",
     "varRefreshCmd": "print(var_dic_list())"
    },
    "r": {
     "delete_cmd_postfix": ") ",
     "delete_cmd_prefix": "rm(",
     "library": "var_list.r",
     "varRefreshCmd": "cat(var_dic_list()) "
    }
   },
   "types_to_exclude": [
    "module",
    "function",
    "builtin_function_or_method",
    "instance",
    "_Feature"
   ],
   "window_display": false
  }
 },
 "nbformat": 4,
 "nbformat_minor": 2
}
